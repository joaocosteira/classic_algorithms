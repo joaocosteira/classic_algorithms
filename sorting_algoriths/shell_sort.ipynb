{
 "cells": [
  {
   "cell_type": "code",
   "execution_count": 1,
   "metadata": {},
   "outputs": [],
   "source": [
    "def shellSort(list):\n",
    "\n",
    "    distance = len(list) // 2\n",
    "\n",
    "    while distance > 0:\n",
    "\n",
    "        for i in range(distance,len(list)):\n",
    "  \n",
    "            temp = list[i]\n",
    "            j = i \n",
    "\n",
    "            while j >= distance and list[j - distance]  > temp:\n",
    "                list[j] = list[j - distance]\n",
    "                j = j - distance\n",
    "            list[j] = temp \n",
    "        \n",
    "        distance = distance // 2\n",
    "    \n",
    "    return list"
   ]
  },
  {
   "cell_type": "code",
   "execution_count": 2,
   "metadata": {},
   "outputs": [
    {
     "data": {
      "text/plain": [
       "[11, 12, 13, 14, 15, 16, 17, 18, 19, 20, 21, 22, 23, 24, 25, 26]"
      ]
     },
     "execution_count": 2,
     "metadata": {},
     "output_type": "execute_result"
    }
   ],
   "source": [
    "shellSort([26,17,20,11,23,21,13,18,24,14,12,22,16,15,19,25])"
   ]
  },
  {
   "cell_type": "markdown",
   "metadata": {},
   "source": [
    "## Execution Example\n",
    "![distance 8](\"../imgs/shell_d8.jpg\")"
   ]
  },
  {
   "cell_type": "markdown",
   "metadata": {},
   "source": []
  }
 ],
 "metadata": {
  "kernelspec": {
   "display_name": "Python 3.9.14 64-bit",
   "language": "python",
   "name": "python3"
  },
  "language_info": {
   "codemirror_mode": {
    "name": "ipython",
    "version": 3
   },
   "file_extension": ".py",
   "mimetype": "text/x-python",
   "name": "python",
   "nbconvert_exporter": "python",
   "pygments_lexer": "ipython3",
   "version": "3.9.14"
  },
  "orig_nbformat": 4,
  "vscode": {
   "interpreter": {
    "hash": "397704579725e15f5c7cb49fe5f0341eb7531c82d19f2c29d197e8b64ab5776b"
   }
  }
 },
 "nbformat": 4,
 "nbformat_minor": 2
}
