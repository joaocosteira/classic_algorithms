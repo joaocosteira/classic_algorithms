{
 "cells": [
  {
   "cell_type": "code",
   "execution_count": 3,
   "metadata": {},
   "outputs": [],
   "source": [
    "def insertionsort(list):\n",
    "    for i in range(1,len(list)):\n",
    "        j = i - 1\n",
    "        elem_idx = list[i]\n",
    "        while (list[j] > elem_idx) and (j >= 0):\n",
    "            list[j+1] = list[j]\n",
    "            j = j - 1\n",
    "        \n",
    "        list[j + 1] = elem_idx\n",
    "    \n",
    "    return list"
   ]
  },
  {
   "cell_type": "code",
   "execution_count": 4,
   "metadata": {},
   "outputs": [
    {
     "data": {
      "text/plain": [
       "[21, 22, 23, 24, 25, 26, 27]"
      ]
     },
     "execution_count": 4,
     "metadata": {},
     "output_type": "execute_result"
    }
   ],
   "source": [
    "insertionsort([25,26,22,24,27,23,21])"
   ]
  },
  {
   "cell_type": "markdown",
   "metadata": {},
   "source": [
    "## Complexity:\n",
    "- **Best Case:** Already sorted, one pass to check if it is sorted => N\n",
    "- **Worst Case:** Pretty much a reversed sorted array, which is going to force a full iteration within each iteration => N^2\n",
    "- So the array being partially sorted cuts the inner iterations"
   ]
  },
  {
   "cell_type": "markdown",
   "metadata": {},
   "source": [
    "Adaptação do Livro **Introduction to Algorithms, TCCL**"
   ]
  },
  {
   "cell_type": "code",
   "execution_count": 5,
   "metadata": {},
   "outputs": [],
   "source": [
    "def insertionSort2(numbers: list):\n",
    "    for j in range(1,len(numbers)):\n",
    "        key = numbers[j]\n",
    "        i = j - 1\n",
    "        while i >= 0 and numbers[i] > key:\n",
    "            numbers[i + 1] = numbers[i]\n",
    "            i = i - 1\n",
    "        numbers[i + 1] = key\n",
    "    return numbers"
   ]
  },
  {
   "cell_type": "code",
   "execution_count": 6,
   "metadata": {},
   "outputs": [
    {
     "data": {
      "text/plain": [
       "[1, 2, 3, 4, 5, 6]"
      ]
     },
     "execution_count": 6,
     "metadata": {},
     "output_type": "execute_result"
    }
   ],
   "source": [
    "insertionSort2([2,5,4,6,1,3])"
   ]
  },
  {
   "cell_type": "code",
   "execution_count": null,
   "metadata": {},
   "outputs": [],
   "source": []
  }
 ],
 "metadata": {
  "kernelspec": {
   "display_name": "Python 3.9.14 64-bit",
   "language": "python",
   "name": "python3"
  },
  "language_info": {
   "codemirror_mode": {
    "name": "ipython",
    "version": 3
   },
   "file_extension": ".py",
   "mimetype": "text/x-python",
   "name": "python",
   "nbconvert_exporter": "python",
   "pygments_lexer": "ipython3",
   "version": "3.9.14"
  },
  "orig_nbformat": 4,
  "vscode": {
   "interpreter": {
    "hash": "397704579725e15f5c7cb49fe5f0341eb7531c82d19f2c29d197e8b64ab5776b"
   }
  }
 },
 "nbformat": 4,
 "nbformat_minor": 2
}
