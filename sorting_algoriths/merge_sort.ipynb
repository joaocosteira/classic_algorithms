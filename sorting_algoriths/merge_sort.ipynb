{
 "cells": [
  {
   "cell_type": "code",
   "execution_count": 1,
   "metadata": {},
   "outputs": [],
   "source": [
    "#this version creates a new merged array\n",
    "def merge_1(left,right):\n",
    "    l_idx = 0\n",
    "    r_idx = 0\n",
    "    m_idx = 0\n",
    "    merged = [None] * (len(left) + len(right))\n",
    "\n",
    "    while(l_idx < len(left) and r_idx < len(right)):\n",
    "        if(left[l_idx] < right[r_idx]):\n",
    "            merged[m_idx] = left[l_idx]\n",
    "            l_idx += 1\n",
    "        else:\n",
    "            merged[m_idx] = right[r_idx]\n",
    "            r_idx += 1\n",
    "\n",
    "        m_idx += 1\n",
    "\n",
    "    #At least one list is finished: let's copy the rest:\n",
    "    while(l_idx < len(left)):\n",
    "        merged[m_idx] = left[l_idx]\n",
    "        l_idx += 1\n",
    "        m_idx += 1\n",
    "    \n",
    "    while(r_idx < len(right)):\n",
    "        merged[m_idx] = right[r_idx]\n",
    "        r_idx += 1\n",
    "        m_idx += 1\n",
    "\n",
    "    return merged"
   ]
  },
  {
   "cell_type": "code",
   "execution_count": 2,
   "metadata": {},
   "outputs": [],
   "source": [
    "def merge(left,right,merged):\n",
    "    l_idx = 0\n",
    "    r_idx = 0\n",
    "    m_idx = 0\n",
    "\n",
    "    while(l_idx < len(left) and r_idx < len(right)):\n",
    "        if(left[l_idx] < right[r_idx]):\n",
    "            merged[m_idx] = left[l_idx]\n",
    "            l_idx += 1\n",
    "        else:\n",
    "            merged[m_idx] = right[r_idx]\n",
    "            r_idx += 1\n",
    "\n",
    "        m_idx += 1\n",
    "\n",
    "    #At least one list is finished: let's copy the rest:\n",
    "    while(l_idx < len(left)):\n",
    "        merged[m_idx] = left[l_idx]\n",
    "        l_idx += 1\n",
    "        m_idx += 1\n",
    "    \n",
    "    while(r_idx < len(right)):\n",
    "        merged[m_idx] = right[r_idx]\n",
    "        r_idx += 1\n",
    "        m_idx += 1\n",
    "\n",
    "    return merged"
   ]
  },
  {
   "cell_type": "code",
   "execution_count": 3,
   "metadata": {},
   "outputs": [],
   "source": [
    "def mergeSort(list):\n",
    "    if len(list) > 1:\n",
    "        mid = len(list) // 2\n",
    "        left = mergeSort(list[:mid])\n",
    "        right = mergeSort(list[mid:])\n",
    "        #list = merge(left,right)\n",
    "        return merge(left,right,list)\n",
    "\n",
    "    return list"
   ]
  },
  {
   "cell_type": "code",
   "execution_count": 4,
   "metadata": {},
   "outputs": [
    {
     "data": {
      "text/plain": [
       "[7, 10, 16, 21, 34, 44, 45, 67, 83]"
      ]
     },
     "execution_count": 4,
     "metadata": {},
     "output_type": "execute_result"
    }
   ],
   "source": [
    "mergeSort([44,16,83,7,67,21,34,45,10])"
   ]
  }
 ],
 "metadata": {
  "kernelspec": {
   "display_name": "Python 3.9.14 64-bit",
   "language": "python",
   "name": "python3"
  },
  "language_info": {
   "codemirror_mode": {
    "name": "ipython",
    "version": 3
   },
   "file_extension": ".py",
   "mimetype": "text/x-python",
   "name": "python",
   "nbconvert_exporter": "python",
   "pygments_lexer": "ipython3",
   "version": "3.9.14"
  },
  "orig_nbformat": 4,
  "vscode": {
   "interpreter": {
    "hash": "397704579725e15f5c7cb49fe5f0341eb7531c82d19f2c29d197e8b64ab5776b"
   }
  }
 },
 "nbformat": 4,
 "nbformat_minor": 2
}
