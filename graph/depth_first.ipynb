{
 "cells": [
  {
   "cell_type": "markdown",
   "metadata": {},
   "source": [
    "## Depth First Algorithms\n",
    "The idea behind Deph First is that we are going as fair as we can while navigating through the graph. Only when we arrive at dead-end, we declare a node at visited and backtrack, repeting the process until all nodes are visited.\n",
    "\n",
    "For DPS we can use some kind of stack (**LIFO**) or a recursive Algorithm."
   ]
  },
  {
   "cell_type": "code",
   "execution_count": 1,
   "metadata": {},
   "outputs": [],
   "source": [
    "graph= { \n",
    "        'Amin' : {'Wasim', 'Nick', 'Mike'}, \n",
    "        'Wasim' : {'Imran', 'Amin'},\n",
    "        'Imran' : {'Wasim','Faras'},\n",
    "        'Faras' : {'Imran'},\n",
    "        'Mike'  : {'Amin'},\n",
    "        'Nick' :  {'Amin'}\n",
    "    }"
   ]
  },
  {
   "cell_type": "code",
   "execution_count": 2,
   "metadata": {},
   "outputs": [],
   "source": [
    "def dfs(graph,start,visited=None):\n",
    "\n",
    "    if visited is None:\n",
    "        visited = set()\n",
    "    \n",
    "    visited.add(start)\n",
    "    print(start)\n",
    "\n",
    "    for next in graph[start] - visited:\n",
    "        dfs(graph,next,visited)\n",
    "    \n",
    "    return visited"
   ]
  },
  {
   "cell_type": "code",
   "execution_count": 3,
   "metadata": {},
   "outputs": [
    {
     "name": "stdout",
     "output_type": "stream",
     "text": [
      "Amin\n",
      "Mike\n",
      "Nick\n",
      "Wasim\n",
      "Imran\n",
      "Faras\n",
      "{'Imran', 'Nick', 'Faras', 'Mike', 'Wasim', 'Amin'}\n"
     ]
    }
   ],
   "source": [
    "visited = set()\n",
    "dfs(graph,\"Amin\",visited)\n",
    "print(visited)"
   ]
  },
  {
   "cell_type": "code",
   "execution_count": null,
   "metadata": {},
   "outputs": [],
   "source": []
  }
 ],
 "metadata": {
  "kernelspec": {
   "display_name": "Python 3.9.14 64-bit",
   "language": "python",
   "name": "python3"
  },
  "language_info": {
   "codemirror_mode": {
    "name": "ipython",
    "version": 3
   },
   "file_extension": ".py",
   "mimetype": "text/x-python",
   "name": "python",
   "nbconvert_exporter": "python",
   "pygments_lexer": "ipython3",
   "version": "3.9.14"
  },
  "orig_nbformat": 4,
  "vscode": {
   "interpreter": {
    "hash": "397704579725e15f5c7cb49fe5f0341eb7531c82d19f2c29d197e8b64ab5776b"
   }
  }
 },
 "nbformat": 4,
 "nbformat_minor": 2
}
