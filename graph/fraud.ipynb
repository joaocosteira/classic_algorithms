{
 "cells": [
  {
   "cell_type": "markdown",
   "metadata": {},
   "source": [
    "## Simple Fraud Analysis:\n",
    "Idea: The behaviour of a person is affected by the people they are connected to."
   ]
  },
  {
   "cell_type": "code",
   "execution_count": 1,
   "metadata": {},
   "outputs": [],
   "source": [
    "import networkx as nx\n",
    "import matplotlib.pyplot as plt"
   ]
  },
  {
   "cell_type": "code",
   "execution_count": 2,
   "metadata": {},
   "outputs": [],
   "source": [
    "vertices = range(1,10)\n",
    "edges= [(7,2), (2,3), (7,4), (4,5), (7,3), (7,5), (1,6),(1,7),(2,8),(2,9)]"
   ]
  },
  {
   "cell_type": "code",
   "execution_count": 3,
   "metadata": {},
   "outputs": [],
   "source": [
    "G = nx.Graph()\n",
    "G.add_nodes_from(vertices)\n",
    "G.add_edges_from(edges)\n",
    "pos=nx.spring_layout(G)"
   ]
  },
  {
   "cell_type": "code",
   "execution_count": 4,
   "metadata": {},
   "outputs": [
    {
     "data": {
      "text/plain": [
       "{1: Text(0.5385922124336946, 0.4979276832988612, '1 NF'),\n",
       " 2: Text(-0.15943056357754767, -0.5221592851137448, '2 F'),\n",
       " 3: Text(-0.275779631941614, -0.17721082488121345, '3 NF'),\n",
       " 4: Text(-0.17134783440780801, 0.6723782779783906, '4 NF'),\n",
       " 5: Text(-0.43838850527403134, 0.5208255789609146, '5 F'),\n",
       " 6: Text(0.9769889870941184, 0.7658106868648563, '6 F'),\n",
       " 7: Text(-0.04462737507258588, 0.18075211073142922, '7 F'),\n",
       " 8: Text(0.07637795476696556, -0.9999999999999999, '8 NF'),\n",
       " 9: Text(-0.5023852440211913, -0.9383242278394925, '9 NF')}"
      ]
     },
     "execution_count": 4,
     "metadata": {},
     "output_type": "execute_result"
    },
    {
     "data": {
      "image/png": "[encoded data removed]",
      "text/plain": [
       "<Figure size 640x480 with 1 Axes>"
      ]
     },
     "metadata": {},
     "output_type": "display_data"
    }
   ],
   "source": [
    "#Paint Non-Fraud Nodes as Green\n",
    "nx.draw_networkx_nodes(\n",
    "    G,\n",
    "    pos, \n",
    "    nodelist=[1,4,3,8,9],\n",
    "    node_color='g', \n",
    "    node_size=1300\n",
    ")\n",
    "\n",
    "#Paint Fraud Nodes as Red\n",
    "nx.draw_networkx_nodes(\n",
    "    G,\n",
    "    pos, \n",
    "    nodelist=[2,5,6,7],\n",
    "    node_color='r', \n",
    "    node_size=1300\n",
    ")\n",
    "\n",
    "#Draw the network with the respective labels\n",
    "nx.draw_networkx_edges(G,pos,edges,width=3,alpha=0.5,edge_color='b' ) \n",
    "labels={\n",
    "    1 : r'1 NF',\n",
    "    2: r'2 F',\n",
    "    3: r'3 NF',\n",
    "    4: r'4 NF',\n",
    "    5: r'5 F',\n",
    "    6: r'6 F',\n",
    "    7: r'7 F',\n",
    "    8: r'8 NF',\n",
    "    9: r'9 NF'\n",
    "} \n",
    "\n",
    "nx.draw_networkx_labels(G,pos,labels,font_size=16)"
   ]
  },
  {
   "cell_type": "markdown",
   "metadata": {},
   "source": [
    "## Analysing Fauds\n",
    "Now the idea is the following. Now we have this graph where we know who is non-fraudulent and who is. The idea is by inserting a new person to the system, and by knowing who this person is connected to, we are able to determain if this person is Fraudulent or not.\n",
    "\n",
    "### Equation:\n",
    "\n",
    "$$ P(F|q) = {1 \\over degree_{q}}  \\sum_{n_{j} \\in Neighbourhood_{n}|class(n_{j})=F}w(n,n_{j})DOS_{normalized_{j}}$$\n",
    "\n",
    "#### Equation Description:\n",
    "$ Neighbourhood_{n} $ - neighborhood of vertex n  \n",
    "$ w(n,n_{j}) $ - weight of the connection between n and $ n_{j} $  \n",
    "$ degree_{q} $ - Degree of node q  \n",
    "$ DOS $ - Degree of Suspicion\n",
    "\n",
    "### Example\n",
    "\n",
    "$$ P(F|q) = { 1 + 1 \\over 3 } = { 2 \\over 3} = 0.67 $$\n",
    "\n",
    "This means that this perticular person q has a probability of **67% to be fraudulent**. Now we simply have to define a treshhold where above that line, we classify that person as Fraudulent."
   ]
  },
  {
   "cell_type": "markdown",
   "metadata": {},
   "source": [
    "## More Complicated Example:\n",
    "### The WatchTower:\n",
    "The previous example has a couple of problems:\n",
    "- It does not evaluate the importance of each vertex in the social network\n",
    "- A connection to a hub that is involved in fraud may have different implications than a relationship with a remote, isolated person\n",
    "- When labeling someone as a known case of fraud in an existing network, we do not consider the severity of the crime"
   ]
  },
  {
   "cell_type": "markdown",
   "metadata": {},
   "source": [
    "### Severity of Crimes:\n",
    "With this version, we are going to classify each crime with different severities, in the previous example, we classified every single crime as equal, but obviously there's different levels, as an example:\n",
    "\n",
    "|  Negative outcome |  Negative outcome score |  \n",
    "|---|---|\n",
    "| Impersonation | 10 |\n",
    "| Involvement in credit card theft | 8 |\n",
    "| Fake check submission | 7 |\n",
    "| Criminal record | 6 |\n",
    "| No record | 0 |\n"
   ]
  },
  {
   "cell_type": "markdown",
   "metadata": {},
   "source": []
  }
 ],
 "metadata": {
  "kernelspec": {
   "display_name": "Python 3.9.14 64-bit",
   "language": "python",
   "name": "python3"
  },
  "language_info": {
   "codemirror_mode": {
    "name": "ipython",
    "version": 3
   },
   "file_extension": ".py",
   "mimetype": "text/x-python",
   "name": "python",
   "nbconvert_exporter": "python",
   "pygments_lexer": "ipython3",
   "version": "3.9.14"
  },
  "orig_nbformat": 4,
  "vscode": {
   "interpreter": {
    "hash": "397704579725e15f5c7cb49fe5f0341eb7531c82d19f2c29d197e8b64ab5776b"
   }
  }
 },
 "nbformat": 4,
 "nbformat_minor": 2
}
