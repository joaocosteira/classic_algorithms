{
 "cells": [
  {
   "cell_type": "code",
   "execution_count": 1,
   "metadata": {},
   "outputs": [],
   "source": [
    "import random\n",
    "from itertools import permutations\n",
    "\n",
    "%matplotlib inline\n",
    "import matplotlib.pyplot as plt\n",
    "import time\n",
    "from collections import Counter"
   ]
  },
  {
   "cell_type": "code",
   "execution_count": 2,
   "metadata": {},
   "outputs": [],
   "source": [
    "alltours = permutations"
   ]
  },
  {
   "cell_type": "code",
   "execution_count": 3,
   "metadata": {},
   "outputs": [],
   "source": [
    "def distance_points(first, second): \n",
    "    return abs(first - second)\n",
    "\n",
    "def distance_tour(aTour):\n",
    "    return sum(distance_points(aTour[i - 1], aTour[i]) for i in range(len(aTour)))\n",
    "\n",
    "aCity = complex\n",
    "\n",
    "def generate_cities (number_of_cities):\n",
    "\n",
    "    seed=111\n",
    "    width=500\n",
    "    height=300\n",
    "    random.seed((number_of_cities, seed))\n",
    "\n",
    "    return frozenset(aCity(random.randint(1, width), random.randint(1,height)) for c in range(number_of_cities))"
   ]
  },
  {
   "cell_type": "code",
   "execution_count": 4,
   "metadata": {},
   "outputs": [],
   "source": [
    "def shortest_tour(tours): \n",
    "    return min(tours, key=distance_tour)\n",
    "    \n",
    "def brute_force(cities):\n",
    "    return shortest_tour(alltours(cities))"
   ]
  },
  {
   "cell_type": "code",
   "execution_count": 5,
   "metadata": {},
   "outputs": [],
   "source": [
    "def X(city): return city.real \n",
    "def Y(city): return city.imag\n",
    "\n",
    "\n",
    "def visualize_segment (segment, style='bo-'):\n",
    "    plt.plot([X(c) for c in segment], [Y(c) for c in segment], style,clip_on=False) \n",
    "    plt.axis('scaled') \n",
    "    plt.axis('off')\n",
    "\n",
    "def visualize_tour(tour, style='bo-'):\n",
    "    if len(tour) > 1000: \n",
    "        plt.figure(figsize=(15, 10)) \n",
    "    start = tour[0:1]\n",
    "    visualize_segment(tour + start, style) \n",
    "    visualize_segment(start, 'rD')"
   ]
  },
  {
   "cell_type": "code",
   "execution_count": 6,
   "metadata": {},
   "outputs": [],
   "source": [
    "def name(algorithm): return algorithm.__name__.replace('_',' ')\n",
    "\n",
    "def tsp(algorithm,cities):\n",
    "\n",
    "    t0 = time.perf_counter()\n",
    "    tour = algorithm(cities)\n",
    "    t1 = time.perf_counter()\n",
    "\n",
    "\n",
    "    assert Counter(tour) == Counter(cities)\n",
    "\n",
    "\n",
    "    visualize_tour(tour)\n",
    "\n",
    "    print(name(algorithm),\": \",distance_tour(tour),\"total length  over\",len(cities),\"cities\")\n",
    "    print(\"Took\",round(t1-t0,2),\"seconds\")\n",
    "\n"
   ]
  },
  {
   "cell_type": "code",
   "execution_count": 7,
   "metadata": {},
   "outputs": [
    {
     "name": "stderr",
     "output_type": "stream",
     "text": [
      "/var/folders/4r/0mfy5s6s6_5301ss2bc8wlqh0000gn/T/ipykernel_1944/392449891.py:14: DeprecationWarning: Seeding based on hashing is deprecated\n",
      "since Python 3.9 and will be removed in a subsequent version. The only \n",
      "supported seed types are: None, int, float, str, bytes, and bytearray.\n",
      "  random.seed((number_of_cities, seed))\n"
     ]
    },
    {
     "name": "stdout",
     "output_type": "stream",
     "text": [
      "brute force :  1223.5514480565141 total length  over 10 cities\n",
      "Took 9.86 seconds\n"
     ]
    },
    {
     "data": {
      "image/png": "[encoded data removed]",
      "text/plain": [
       "<Figure size 640x480 with 1 Axes>"
      ]
     },
     "metadata": {},
     "output_type": "display_data"
    }
   ],
   "source": [
    "tsp(brute_force,generate_cities(10))"
   ]
  },
  {
   "cell_type": "code",
   "execution_count": null,
   "metadata": {},
   "outputs": [],
   "source": []
  }
 ],
 "metadata": {
  "kernelspec": {
   "display_name": "Python 3.9.14 64-bit",
   "language": "python",
   "name": "python3"
  },
  "language_info": {
   "codemirror_mode": {
    "name": "ipython",
    "version": 3
   },
   "file_extension": ".py",
   "mimetype": "text/x-python",
   "name": "python",
   "nbconvert_exporter": "python",
   "pygments_lexer": "ipython3",
   "version": "3.9.14"
  },
  "orig_nbformat": 4,
  "vscode": {
   "interpreter": {
    "hash": "397704579725e15f5c7cb49fe5f0341eb7531c82d19f2c29d197e8b64ab5776b"
   }
  }
 },
 "nbformat": 4,
 "nbformat_minor": 2
}
