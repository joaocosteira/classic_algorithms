{
 "cells": [
  {
   "cell_type": "markdown",
   "metadata": {},
   "source": [
    "### Important Note\n",
    "This only works on a **sorted list**"
   ]
  },
  {
   "cell_type": "code",
   "execution_count": 1,
   "metadata": {},
   "outputs": [],
   "source": [
    "def interpolationSearch(list,x):\n",
    "\n",
    "    idx0 = 0\n",
    "    idxn = len(list) - 1\n",
    "    found = False \n",
    "\n",
    "    while( idx0 <= idxn and x >= list[idx0] and x <= list[idxn]):\n",
    "        mid = idx0 + int(((float(idxn - idx0) / (list[idxn] - list[idx0])) * (x - list[idx0])))\n",
    "\n",
    "        if list[mid] == x:\n",
    "            found = True\n",
    "            return found \n",
    "\n",
    "    \n",
    "        if list[mid] < x:\n",
    "            idx0 = mid + 1\n",
    "    \n",
    "    return found\n"
   ]
  },
  {
   "cell_type": "code",
   "execution_count": 2,
   "metadata": {},
   "outputs": [
    {
     "name": "stdout",
     "output_type": "stream",
     "text": [
      "True\n",
      "False\n",
      "True\n",
      "False\n"
     ]
    }
   ],
   "source": [
    "l_sorted = [11,12,22,33,55,90,99]\n",
    "l_unsorted = [12,33,11,99,22,55,90]\n",
    "\n",
    "print(interpolationSearch(l_sorted,12))\n",
    "print(interpolationSearch(l_sorted,91))\n",
    "print(interpolationSearch(l_unsorted,12))\n",
    "print(interpolationSearch(l_unsorted,91))"
   ]
  }
 ],
 "metadata": {
  "kernelspec": {
   "display_name": "Python 3.9.14 64-bit",
   "language": "python",
   "name": "python3"
  },
  "language_info": {
   "codemirror_mode": {
    "name": "ipython",
    "version": 3
   },
   "file_extension": ".py",
   "mimetype": "text/x-python",
   "name": "python",
   "nbconvert_exporter": "python",
   "pygments_lexer": "ipython3",
   "version": "3.9.14"
  },
  "orig_nbformat": 4,
  "vscode": {
   "interpreter": {
    "hash": "397704579725e15f5c7cb49fe5f0341eb7531c82d19f2c29d197e8b64ab5776b"
   }
  }
 },
 "nbformat": 4,
 "nbformat_minor": 2
}
