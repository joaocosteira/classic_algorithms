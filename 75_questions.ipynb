{
 "cells": [
  {
   "cell_type": "markdown",
   "metadata": {},
   "source": [
    "# 75 Questions\n",
    "Playlist de questões de algoritmos e tal que podem ser usadas em entrevistas. \n",
    "[Aqui](https://www.youtube.com/watch?v=KLlXCFG5TnA&list=PLot-Xpze53ldVwtstag2TL4HQhAnC8ATf) têm acesso às soluções em video"
   ]
  },
  {
   "cell_type": "markdown",
   "metadata": {},
   "source": [
    "## 1) Sum Two Lists\n",
    "A ideia é poder encontrar o index sobre o qual a soma deles seja igual a um valor target.  \n",
    "Tradicionalmente, podemos pensar usar um algoritmos que vai comparando posição a posição, o problema é que no pior dos casos esse algoritmo é quadratico.   \n",
    "Por isso vamos construir uma hashMap onde vamos armazenar os elementos conhecidos e assim temos um **pior caso linear**, contrario ao **quadratico** anterior."
   ]
  },
  {
   "cell_type": "code",
   "execution_count": 1,
   "metadata": {},
   "outputs": [],
   "source": [
    "class Solution1:\n",
    "    def twoSum(self,nums: list[int], target: int)  -> list[int]:\n",
    "        prevMap = {}\n",
    "        for i,n in enumerate(nums):\n",
    "            diff = target - n\n",
    "            if diff in prevMap:\n",
    "                return [prevMap[diff],i]\n",
    "            else:\n",
    "                prevMap[n] = i\n"
   ]
  },
  {
   "cell_type": "code",
   "execution_count": 2,
   "metadata": {},
   "outputs": [],
   "source": [
    "solution = Solution1()"
   ]
  },
  {
   "cell_type": "code",
   "execution_count": 3,
   "metadata": {},
   "outputs": [
    {
     "data": {
      "text/plain": [
       "[1, 3]"
      ]
     },
     "execution_count": 3,
     "metadata": {},
     "output_type": "execute_result"
    }
   ],
   "source": [
    "solution.twoSum([2,1,5,3],4)"
   ]
  },
  {
   "cell_type": "markdown",
   "metadata": {},
   "source": [
    "## 2) Max Profit\n",
    "Queremos calcular o max profit do stock market, por isso temos de decidir um dia pra comprar (Left) e um dia posterior pra verder (Right).  \n",
    "Logo com 2 pointers podemos determinar esses dias de forma a maximizar os lucros. **O(n)**\n",
    " "
   ]
  },
  {
   "cell_type": "code",
   "execution_count": 4,
   "metadata": {},
   "outputs": [],
   "source": [
    "class Solution2:\n",
    "    def maxProfit(self, prices: list[int]) -> int:\n",
    "        l,r = 0,1\n",
    "        maxP = 0\n",
    "\n",
    "        while( r < len(prices)):\n",
    "            \n",
    "            #This means that the stock is profitable\n",
    "            if(prices[l] < prices[r]):\n",
    "                profit = prices[r] - prices[l]\n",
    "                maxP = max(maxP,profit)\n",
    "            #now you're losing money: let's update the buying date\n",
    "            else:\n",
    "                l = r\n",
    "            \n",
    "            r += 1\n",
    "        \n",
    "        return maxP "
   ]
  },
  {
   "cell_type": "code",
   "execution_count": 5,
   "metadata": {},
   "outputs": [
    {
     "data": {
      "text/plain": [
       "5"
      ]
     },
     "execution_count": 5,
     "metadata": {},
     "output_type": "execute_result"
    }
   ],
   "source": [
    "ex2 = Solution2()\n",
    "ex2.maxProfit([7,1,5,3,6,4])"
   ]
  },
  {
   "cell_type": "markdown",
   "metadata": {},
   "source": [
    "## 3) Contains Duplicates\n",
    "Basicamente indicar se temos repetidos na lista ou nao. Uma boa solução é usar um hashset onde vamos adicionar os elems à medida que atravessamos a estrutura **O(N)**"
   ]
  },
  {
   "cell_type": "code",
   "execution_count": 6,
   "metadata": {},
   "outputs": [],
   "source": [
    "class Solution3:\n",
    "    def containsDuplicates(self, nums: list[int]) -> bool:\n",
    "\n",
    "        hashset = set()\n",
    "\n",
    "        for n in nums:\n",
    "            if n in hashset:\n",
    "                return True\n",
    "            hashset.add(n)\n",
    "        \n",
    "        return False"
   ]
  },
  {
   "cell_type": "code",
   "execution_count": 7,
   "metadata": {},
   "outputs": [
    {
     "name": "stdout",
     "output_type": "stream",
     "text": [
      "True\n",
      "False\n"
     ]
    }
   ],
   "source": [
    "ex3 = Solution3()\n",
    "print(ex3.containsDuplicates([1,2,3,1]))\n",
    "print(ex3.containsDuplicates([1,2,3,4]))"
   ]
  },
  {
   "cell_type": "markdown",
   "metadata": {},
   "source": [
    "## 4) Array Except Self\n",
    "A ideia é para cada posicao de um array queremos calcular a multiplicação de todos os valores do array, excepto ele mesmo.  \n",
    "Obviamente que podiamos ir com brutforce.  \n",
    "A solução daqui é basicamente temos uma lista onde guardamos os **prefixes** and **postfixes**, mas para poupar memoria, vamos calcular essa coisa toda o resultado final sem ter de criar 2 novos arrays."
   ]
  },
  {
   "cell_type": "code",
   "execution_count": 8,
   "metadata": {},
   "outputs": [],
   "source": [
    "class Solution4:\n",
    "    def productExceptSelf(self,nums: list[int]) -> list[int]:\n",
    "        res = [1] * (len(nums))\n",
    "\n",
    "\n",
    "        prefix =  1\n",
    "        for i in range(len(nums)):\n",
    "            res[i] = prefix\n",
    "            prefix *= nums[i]\n",
    "        \n",
    "\n",
    "        postFix = 1\n",
    "        for i in range(len(nums) - 1,-1,-1):\n",
    "            res[i] *= postFix\n",
    "            postFix *= nums[i]\n",
    "\n",
    "        return res"
   ]
  },
  {
   "cell_type": "code",
   "execution_count": 9,
   "metadata": {},
   "outputs": [
    {
     "data": {
      "text/plain": [
       "[24, 12, 8, 6]"
      ]
     },
     "execution_count": 9,
     "metadata": {},
     "output_type": "execute_result"
    }
   ],
   "source": [
    "ex4 = Solution4()\n",
    "ex4.productExceptSelf([1,2,3,4])"
   ]
  },
  {
   "cell_type": "markdown",
   "metadata": {},
   "source": [
    "## 5) Max subarray\n",
    "Objetivo é calcular o sumatorio dos elementos de um subarray do array.  \n",
    "Logo vamos querer saltar à frente caso tenhamos um prefix negativo, pois só vai piorar a solucao, depois vamos adicionar elems para optimizar o max."
   ]
  },
  {
   "cell_type": "code",
   "execution_count": 10,
   "metadata": {},
   "outputs": [],
   "source": [
    "class Solution5:\n",
    "    def maxSubArray(self, nums: list[int]) -> int:\n",
    "        maxSub = nums[0]\n",
    "        curSum = 0\n",
    "\n",
    "        for n in nums:\n",
    "            if curSum < 0:\n",
    "                curSum = 0\n",
    "            curSum +=  n\n",
    "            maxSub = max(maxSub,curSum)\n",
    "        \n",
    "        return maxSub"
   ]
  },
  {
   "cell_type": "code",
   "execution_count": 11,
   "metadata": {},
   "outputs": [
    {
     "data": {
      "text/plain": [
       "6"
      ]
     },
     "execution_count": 11,
     "metadata": {},
     "output_type": "execute_result"
    }
   ],
   "source": [
    "ex5 = Solution5()\n",
    "ex5.maxSubArray([-2,1,-3,4,-1,2,1,-5,4])"
   ]
  },
  {
   "cell_type": "markdown",
   "metadata": {},
   "source": [
    "## 6) Max Product"
   ]
  },
  {
   "cell_type": "code",
   "execution_count": 12,
   "metadata": {},
   "outputs": [],
   "source": [
    "class Solution6:\n",
    "    def maxProduct(self,nums: list[int]) -> int:\n",
    "        res = max(nums)\n",
    "        curMin,curMax = 1, 1\n",
    "\n",
    "\n",
    "        for n in nums:\n",
    "            if n == 0:\n",
    "                curMin, curMax = 1,1\n",
    "                continue\n",
    "            \n",
    "            tmp = n*curMax\n",
    "            curMax = max(n*curMax,n * curMin,n)\n",
    "            curMin = max(tmp,n * curMin,n)\n",
    "            res = max(res,curMin)\n",
    "        \n",
    "        return res"
   ]
  },
  {
   "cell_type": "code",
   "execution_count": 13,
   "metadata": {},
   "outputs": [
    {
     "data": {
      "text/plain": [
       "6"
      ]
     },
     "execution_count": 13,
     "metadata": {},
     "output_type": "execute_result"
    }
   ],
   "source": [
    "ex6 = Solution6()\n",
    "ex6.maxProduct([2,3,-2,4])"
   ]
  },
  {
   "cell_type": "markdown",
   "metadata": {},
   "source": [
    "## 7) Min in Sorted Rotated Array\n",
    "- Temos array ordenado\n",
    "- Queremos procurar o min\n",
    "- em **O(log(n))** which is probably some kind of binary search\n",
    "- Catch, o array pode ser circular, similar a queues definidas em listas"
   ]
  },
  {
   "cell_type": "code",
   "execution_count": 14,
   "metadata": {},
   "outputs": [],
   "source": [
    "class Solution7:\n",
    "    def findMin(self, nums: list[int]) -> int:\n",
    "        res = nums[0]\n",
    "        left = 0\n",
    "        right = len(nums) - 1\n",
    "\n",
    "        while left < right:\n",
    "            if nums[left] < nums[right]:\n",
    "                res = min(nums[left],res)\n",
    "                break\n",
    "            \n",
    "            m = (left + right) // 2\n",
    "            res = min(res,nums[m])\n",
    "\n",
    "            if nums[m] >= nums[left]:\n",
    "                left = m + 1\n",
    "            else:\n",
    "                right = m - 1\n",
    "                 \n",
    "        return res"
   ]
  },
  {
   "cell_type": "code",
   "execution_count": 15,
   "metadata": {},
   "outputs": [
    {
     "data": {
      "text/plain": [
       "1"
      ]
     },
     "execution_count": 15,
     "metadata": {},
     "output_type": "execute_result"
    }
   ],
   "source": [
    "ex7 = Solution7()\n",
    "ex7.findMin([3,4,5,1,2])"
   ]
  },
  {
   "cell_type": "markdown",
   "metadata": {},
   "source": [
    "## 8) Search in Rotated Sorted Array\n",
    "Devolve o index onde elem aparece em array ordenado: catch é que o array pode estar rodado"
   ]
  },
  {
   "cell_type": "code",
   "execution_count": 16,
   "metadata": {},
   "outputs": [],
   "source": [
    "class Solution8:\n",
    "    def search(self, nums: list[int], target: int) -> int:\n",
    "        l,r = 0, len(nums) - 1\n",
    "        while l <= r:\n",
    "            mid = (l + r) // 2\n",
    "\n",
    "            if target == nums[mid]:\n",
    "                return mid\n",
    "\n",
    "            #left sorted portion\n",
    "            if nums[l] <= nums[mid]:\n",
    "                if target > nums[mid] or target < nums[l]:\n",
    "                    l = mid + 1\n",
    "                else:\n",
    "                    r = mid - 1\n",
    "            \n",
    "            #right sorted portion\n",
    "            else:\n",
    "                if target < nums[mid] or target > nums[r]:\n",
    "                    r =  mid - 1\n",
    "                else:\n",
    "                    l = mid + 1\n",
    "                \n",
    "        return -1"
   ]
  },
  {
   "cell_type": "code",
   "execution_count": 17,
   "metadata": {},
   "outputs": [
    {
     "data": {
      "text/plain": [
       "4"
      ]
     },
     "execution_count": 17,
     "metadata": {},
     "output_type": "execute_result"
    }
   ],
   "source": [
    "ex8 = Solution8()\n",
    "ex8.search([4,5,6,7,0,1,2],0)"
   ]
  },
  {
   "cell_type": "markdown",
   "metadata": {},
   "source": [
    "## 9) Three Sum"
   ]
  },
  {
   "cell_type": "code",
   "execution_count": 18,
   "metadata": {},
   "outputs": [],
   "source": [
    "class Solution9:\n",
    "    def threeSum(self, nums: list[int]) -> list[list[int]]:\n",
    "        res = []\n",
    "        nums.sort()\n",
    "\n",
    "        for i, a in enumerate(nums):\n",
    "            if i > 0 and a == nums[i - 1]:\n",
    "                continue\n",
    "\n",
    "            l, r = i + 1, len(nums) - 1\n",
    "            while l < r:\n",
    "                threeSum =  a + nums[l] + nums[r]\n",
    "                if threeSum > 0:\n",
    "                    r -= 1\n",
    "                elif threeSum < 0:\n",
    "                    l += 1\n",
    "                else:\n",
    "                    res.append([a,nums[l],nums[r]])\n",
    "                    l += 1\n",
    "                    while nums[l] == nums[l - 1] and l < r:\n",
    "                        l += 1\n",
    "            return res\n"
   ]
  },
  {
   "cell_type": "code",
   "execution_count": 19,
   "metadata": {},
   "outputs": [
    {
     "data": {
      "text/plain": [
       "[[-3, 1, 2]]"
      ]
     },
     "execution_count": 19,
     "metadata": {},
     "output_type": "execute_result"
    }
   ],
   "source": [
    "ex9 = Solution9()\n",
    "ex9.threeSum([-3,3,4,-3,1,2])"
   ]
  },
  {
   "cell_type": "markdown",
   "metadata": {},
   "source": [
    "## 10) Most Water"
   ]
  },
  {
   "cell_type": "code",
   "execution_count": 20,
   "metadata": {},
   "outputs": [],
   "source": [
    "class Solution10:\n",
    "    def maxAreaBruteForce(self,height : list[int]) -> int:\n",
    "        res = 0\n",
    "        for l in range(len(height)):\n",
    "            for r in range(l+1,len(height)):\n",
    "                area = (r - l) * min(height[l],height[r])\n",
    "                res = max(res,area)\n",
    "\n",
    "        return res\n",
    "    \n",
    "    def maxAreaLinear(self, height: list[int]) -> int:\n",
    "        res = 0\n",
    "        l, r = 0, len(height) - 1\n",
    "\n",
    "        while l < r:\n",
    "            area = (r - l) * min(height[l],height[r])\n",
    "            res = max(res,area)\n",
    "\n",
    "            if height[r] > height[l]:\n",
    "                l += 1\n",
    "            else:\n",
    "                r -= 1\n",
    "        return res"
   ]
  },
  {
   "cell_type": "code",
   "execution_count": 21,
   "metadata": {},
   "outputs": [
    {
     "name": "stdout",
     "output_type": "stream",
     "text": [
      "49\n",
      "49\n"
     ]
    }
   ],
   "source": [
    "ex10 = Solution10()\n",
    "print(ex10.maxAreaBruteForce([1,8,6,2,5,4,8,3,7]))\n",
    "print(ex10.maxAreaLinear([1,8,6,2,5,4,8,3,7]))"
   ]
  },
  {
   "cell_type": "markdown",
   "metadata": {},
   "source": [
    "## 11) Number of 1's in a bin number"
   ]
  },
  {
   "cell_type": "code",
   "execution_count": 25,
   "metadata": {},
   "outputs": [],
   "source": [
    "class Solution11:\n",
    "    def hammingWeight(self, n: int) -> int:\n",
    "        res = 0\n",
    "        while n:\n",
    "            res += n % 2\n",
    "            n = n >> 1\n",
    "        return res\n",
    "    def hammingWeight2(self, n: int) -> int:\n",
    "        res = 0\n",
    "        while n:\n",
    "            n &= n - 1\n",
    "            res += 1\n",
    "        return res"
   ]
  },
  {
   "cell_type": "code",
   "execution_count": 26,
   "metadata": {},
   "outputs": [
    {
     "name": "stdout",
     "output_type": "stream",
     "text": [
      "3\n",
      "3\n"
     ]
    }
   ],
   "source": [
    "ex11 = Solution11()\n",
    "bit = 0b0000010110\n",
    "print(ex11.hammingWeight(bit))\n",
    "print(ex11.hammingWeight2(bit))"
   ]
  },
  {
   "cell_type": "markdown",
   "metadata": {},
   "source": [
    "## 13) Count Bits\n",
    "Imagine for a number n we create an array [0,...,n]. Then for Each elem we count the number of 1's"
   ]
  },
  {
   "cell_type": "code",
   "execution_count": 63,
   "metadata": {},
   "outputs": [],
   "source": [
    "class Solution13:\n",
    "\n",
    "    # O(log(n))\n",
    "    def count1s(self,n: int) -> int:\n",
    "        c = 0\n",
    "        while n:\n",
    "            c += n % 2\n",
    "            n //= 2\n",
    "        return c\n",
    "    # O(n x log(n))\n",
    "    def countBitsBruteForce(self,n: int) -> list[int]:\n",
    "        return [self.count1s(i) for i in range(n + 1)]\n",
    "    \n",
    "    # O(n)\n",
    "    def countBits(self, n: int) -> list[int]:\n",
    "        dp = [0] * (n + 1)\n",
    "        offset = 1\n",
    "        for i in range(1, n + 1):\n",
    "            if offset*2 == i:\n",
    "                offset = i\n",
    "            dp[i] = 1 + dp[i -offset]\n",
    "        \n",
    "        return dp"
   ]
  },
  {
   "cell_type": "code",
   "execution_count": 64,
   "metadata": {},
   "outputs": [
    {
     "name": "stdout",
     "output_type": "stream",
     "text": [
      "[0, 1, 1]\n",
      "[0, 1, 1]\n"
     ]
    }
   ],
   "source": [
    "ex13 = Solution13()\n",
    "print(ex13.countBitsBruteForce(2))\n",
    "print(ex13.countBits(2))"
   ]
  },
  {
   "cell_type": "markdown",
   "metadata": {},
   "source": [
    "## 14) Find the missing number \n",
    "Temos pelo menos 2 opçoes: xor enter a range de elems e os elems da lista => sobra o elem ou somar todos os elems da range - o sum da lista recebida, logo o que sobra é o missing number"
   ]
  },
  {
   "cell_type": "code",
   "execution_count": 65,
   "metadata": {},
   "outputs": [],
   "source": [
    "class Solution14:\n",
    "    def missingNumber(self,nums: list[int]) -> int:\n",
    "        res = len(nums) #em teoria devia ser 0, mas fazemos isso para nao ter de adicionar depois do loop o elem da len.\n",
    "\n",
    "        # sum([0,1,2,3]) - sum([3,0,1]) = 6 - 4 = 2\n",
    "        # aqui já estamos a fazer esse loop simultaneamente\n",
    "        for i in range(len(nums)):\n",
    "            res += (i - nums[i])\n",
    "        \n",
    "        return res"
   ]
  },
  {
   "cell_type": "code",
   "execution_count": 66,
   "metadata": {},
   "outputs": [
    {
     "data": {
      "text/plain": [
       "2"
      ]
     },
     "execution_count": 66,
     "metadata": {},
     "output_type": "execute_result"
    }
   ],
   "source": [
    "ex14 = Solution14()\n",
    "ex14.missingNumber([3,0,1])"
   ]
  },
  {
   "cell_type": "markdown",
   "metadata": {},
   "source": [
    "## 15) Rever bit representation of a number\n",
    "ex: 4 = 100 -rev-> 001 = 1"
   ]
  },
  {
   "cell_type": "code",
   "execution_count": 67,
   "metadata": {},
   "outputs": [],
   "source": [
    "class Solution15:\n",
    "    def reverseBits(self,n: int) -> int:\n",
    "        res = 0\n",
    "\n",
    "        for i in range(32): #it has a 32 bits\n",
    "            bit = (n >> i) & 1\n",
    "            res = res | (bit << (31 - i))\n",
    "        \n",
    "        return res"
   ]
  },
  {
   "cell_type": "code",
   "execution_count": 69,
   "metadata": {},
   "outputs": [
    {
     "data": {
      "text/plain": [
       "536870912"
      ]
     },
     "execution_count": 69,
     "metadata": {},
     "output_type": "execute_result"
    }
   ],
   "source": [
    "ex15 = Solution15()\n",
    "ex15.reverseBits(0b100)"
   ]
  },
  {
   "cell_type": "markdown",
   "metadata": {},
   "source": [
    "## 16) Climbing Stairs"
   ]
  },
  {
   "cell_type": "code",
   "execution_count": 1,
   "metadata": {},
   "outputs": [],
   "source": [
    "class Solution16:\n",
    "    def climbStairs(self,n:int) -> int:\n",
    "        \n",
    "        one, two = 1, 1\n",
    "\n",
    "        for i in range(n - 1):\n",
    "            temp = one\n",
    "            one = one + two\n",
    "            two = temp\n",
    "        \n",
    "        return one\n"
   ]
  },
  {
   "cell_type": "code",
   "execution_count": 2,
   "metadata": {},
   "outputs": [
    {
     "data": {
      "text/plain": [
       "8"
      ]
     },
     "execution_count": 2,
     "metadata": {},
     "output_type": "execute_result"
    }
   ],
   "source": [
    "ex16 = Solution16()\n",
    "ex16.climbStairs(5)"
   ]
  },
  {
   "cell_type": "markdown",
   "metadata": {},
   "source": [
    "## 17) Coin Change\n",
    "Temos lista de moedas, queremos dizer qual é a combinação minima de moedas. Podemos repetir/reutilizar moedas, podemos assumir que temos quantidade infinita de cada tipo de moeda"
   ]
  },
  {
   "cell_type": "code",
   "execution_count": 3,
   "metadata": {},
   "outputs": [],
   "source": [
    "class Solution17:\n",
    "    def coinChange(self, coins: list[int], amount: int) -> int:\n",
    "        dp = [amount + 1] * (amount + 1)\n",
    "        dp[0] = 0\n",
    "\n",
    "        for a in range(1, amount + 1):\n",
    "            for c in coins:\n",
    "                if a - c >= 0:\n",
    "                    dp[a] = min(dp[a], 1 + dp[a - c])\n",
    "        \n",
    "        return dp[amount]"
   ]
  },
  {
   "cell_type": "code",
   "execution_count": 5,
   "metadata": {},
   "outputs": [
    {
     "data": {
      "text/plain": [
       "2"
      ]
     },
     "execution_count": 5,
     "metadata": {},
     "output_type": "execute_result"
    }
   ],
   "source": [
    "ex17 = Solution17()\n",
    "ex17.coinChange([1,3,4,5],7)"
   ]
  },
  {
   "cell_type": "markdown",
   "metadata": {},
   "source": [
    "## 18) LIS: Longest Increasing Subsquence\n",
    "Nota, podemos saltar à frente alguns elementos, nao é simplesmente encontrar o maior subarray crescente"
   ]
  },
  {
   "cell_type": "code",
   "execution_count": 1,
   "metadata": {},
   "outputs": [],
   "source": [
    "class Solution18:\n",
    "    def lengthOfLIS(self, nums: list[int]) -> int:\n",
    "        LIS = [1] * len(nums)\n",
    "\n",
    "        for i in range(len(nums) - 1,-1,-1):\n",
    "            for j in range(i + 1,len(nums)):\n",
    "                if nums[i] < nums[j]:\n",
    "                    LIS[i] = max(LIS[i], 1 + LIS[j])\n",
    "        return max(LIS)"
   ]
  },
  {
   "cell_type": "code",
   "execution_count": 2,
   "metadata": {},
   "outputs": [
    {
     "data": {
      "text/plain": [
       "4"
      ]
     },
     "execution_count": 2,
     "metadata": {},
     "output_type": "execute_result"
    }
   ],
   "source": [
    "ex18 = Solution18()\n",
    "ex18.lengthOfLIS([10,9,2,5,3,7,101,18])"
   ]
  },
  {
   "cell_type": "markdown",
   "metadata": {},
   "source": [
    "## 19) Longest Common Subsequence"
   ]
  },
  {
   "cell_type": "code",
   "execution_count": 3,
   "metadata": {},
   "outputs": [],
   "source": [
    "class Solution19:\n",
    "    def longestCommonSubsequence(self, text1: str, text2: str) -> int:\n",
    "        dp = [[0 for j in range(len(text2) + 1)] for i in range(len(text1) + 1)]\n",
    "\n",
    "\n",
    "        for i in range(len(text1) -1, -1,-1):\n",
    "            for j in range(len(text2) -1,-1,-1):\n",
    "                if text1[i] == text2[j]:\n",
    "                    dp[i][j] = 1 + dp[i + 1][j + 1] #diagonal\n",
    "                else:\n",
    "                    dp[i][j] = max(dp[i][j + 1],dp[i + 1][j])\n",
    "        return dp[0][0]"
   ]
  },
  {
   "cell_type": "code",
   "execution_count": 4,
   "metadata": {},
   "outputs": [
    {
     "data": {
      "text/plain": [
       "3"
      ]
     },
     "execution_count": 4,
     "metadata": {},
     "output_type": "execute_result"
    }
   ],
   "source": [
    "ex19 = Solution19()\n",
    "ex19.longestCommonSubsequence(\"abcde\",\"ace\")"
   ]
  },
  {
   "cell_type": "markdown",
   "metadata": {},
   "source": [
    "## 20) Word Break"
   ]
  },
  {
   "cell_type": "code",
   "execution_count": 5,
   "metadata": {},
   "outputs": [],
   "source": [
    "class Solution20:\n",
    "    def wordBreak(self, s: str, wordDict: list[str]) -> bool:\n",
    "        dp = [False] * (len(s) + 1)\n",
    "        dp[len(s)] = True\n",
    "\n",
    "        for i in range(len(s)-1,-1,-1):\n",
    "            for w in wordDict:\n",
    "                if (i + len(w)) <= len(s) and s[i : i + len(w)] == w:\n",
    "                    dp[i] = dp[i + len(w)]\n",
    "                if dp[i]:\n",
    "                    break \n",
    "        return dp[0]"
   ]
  },
  {
   "cell_type": "code",
   "execution_count": 6,
   "metadata": {},
   "outputs": [
    {
     "data": {
      "text/plain": [
       "True"
      ]
     },
     "execution_count": 6,
     "metadata": {},
     "output_type": "execute_result"
    }
   ],
   "source": [
    "ex20 = Solution20()\n",
    "ex20.wordBreak(\"meetcode\",[\"meet\",\"code\"])"
   ]
  },
  {
   "cell_type": "markdown",
   "metadata": {},
   "source": [
    "## 21) Combinations Sum"
   ]
  },
  {
   "cell_type": "code",
   "execution_count": 1,
   "metadata": {},
   "outputs": [],
   "source": [
    "class Solution21:\n",
    "    def combinationSum(self,candidates: list[int],target: int) -> list[list[int]]:\n",
    "\n",
    "        res = []\n",
    "\n",
    "        def dfs(i,cur,total):\n",
    "\n",
    "            if total == target:\n",
    "                res.append(cur.copy())\n",
    "                return\n",
    "\n",
    "            if i >= len(candidates) or total > target:\n",
    "                return\n",
    "            \n",
    "            cur.append(candidates[i])\n",
    "            dfs(i,cur,total + candidates[i])\n",
    "            cur.pop()\n",
    "            dfs(i+1,cur,total)\n",
    "        \n",
    "        dfs(0,[],0)\n",
    "        return res"
   ]
  },
  {
   "cell_type": "code",
   "execution_count": 2,
   "metadata": {},
   "outputs": [
    {
     "data": {
      "text/plain": [
       "[[2, 2, 3], [7]]"
      ]
     },
     "execution_count": 2,
     "metadata": {},
     "output_type": "execute_result"
    }
   ],
   "source": [
    "ex21 = Solution21()\n",
    "ex21.combinationSum([2,3,6,7],7)"
   ]
  },
  {
   "cell_type": "markdown",
   "metadata": {},
   "source": [
    "## 22) House Rob"
   ]
  },
  {
   "cell_type": "code",
   "execution_count": 3,
   "metadata": {},
   "outputs": [],
   "source": [
    "class Solution22:\n",
    "    def rob(self,nums: list[int]) -> int:\n",
    "        rob1, rob2 = 0, 0\n",
    "\n",
    "        #[rob1,rob2,n]\n",
    "        for n in nums:\n",
    "            temp = max(n + rob1, rob2)\n",
    "            rob1 = rob2\n",
    "            rob2 = temp\n",
    "        \n",
    "        return rob2"
   ]
  },
  {
   "cell_type": "code",
   "execution_count": 4,
   "metadata": {},
   "outputs": [
    {
     "data": {
      "text/plain": [
       "4"
      ]
     },
     "execution_count": 4,
     "metadata": {},
     "output_type": "execute_result"
    }
   ],
   "source": [
    "ex22 = Solution22()\n",
    "ex22.rob([1,2,3,1])"
   ]
  },
  {
   "cell_type": "markdown",
   "metadata": {},
   "source": [
    "## 23) House Rob 2\n",
    "Igual ao anterior, mas o array é circular."
   ]
  },
  {
   "cell_type": "code",
   "execution_count": 3,
   "metadata": {},
   "outputs": [],
   "source": [
    "class Solution23:\n",
    "    def rob(self, nums: list[int]) -> int:\n",
    "        return max(nums[0], self.helper(nums[1:]), self.helper(nums[:-1]) )\n",
    "        \n",
    "    #Exactly the same as House Rob 1\n",
    "    def helper(self,nums: list[int]) -> int:\n",
    "        rob1, rob2 = 0, 0\n",
    "\n",
    "        #[rob1,rob2,n]\n",
    "        for n in nums:\n",
    "            temp = max(n + rob1, rob2)\n",
    "            rob1 = rob2\n",
    "            rob2 = temp\n",
    "        \n",
    "        return rob2"
   ]
  },
  {
   "cell_type": "code",
   "execution_count": 4,
   "metadata": {},
   "outputs": [
    {
     "data": {
      "text/plain": [
       "3"
      ]
     },
     "execution_count": 4,
     "metadata": {},
     "output_type": "execute_result"
    }
   ],
   "source": [
    "ex23 = Solution23()\n",
    "ex23.rob([2,3,2])"
   ]
  },
  {
   "cell_type": "markdown",
   "metadata": {},
   "source": [
    "## 24) Decode Ways String"
   ]
  },
  {
   "cell_type": "code",
   "execution_count": 5,
   "metadata": {},
   "outputs": [],
   "source": [
    "class Solution24:\n",
    "\n",
    "    def numDecodings(self, s:str) -> int:\n",
    "        dp = { len(s) : 1}\n",
    "\n",
    "        def dfs(i):\n",
    "            if i in dp:\n",
    "                return dp[i]\n",
    "            if s[i] == \"0\":\n",
    "                return 0\n",
    "            \n",
    "            # next by 1 char\n",
    "            res = dfs(i + 1)\n",
    "\n",
    "            #next by 2 chars\n",
    "            if(i + 1 < len(s) and (s[i] == \"1\" or (s[i] == \"2\" and s[i + 1] in \"0123456\"))):\n",
    "                res += dfs(i + 2)\n",
    "\n",
    "            dp[i] = res\n",
    "\n",
    "            return res\n",
    "        return dfs(0)"
   ]
  },
  {
   "cell_type": "code",
   "execution_count": 6,
   "metadata": {},
   "outputs": [
    {
     "data": {
      "text/plain": [
       "3"
      ]
     },
     "execution_count": 6,
     "metadata": {},
     "output_type": "execute_result"
    }
   ],
   "source": [
    "ex24 = Solution24()\n",
    "ex24.numDecodings(\"121\")"
   ]
  },
  {
   "cell_type": "markdown",
   "metadata": {},
   "source": [
    "## 25) Calculate != Paths\n",
    "- Start [0][0] \n",
    "- Ends [m-1][n-1]\n",
    "- Available moves: Right & Down"
   ]
  },
  {
   "cell_type": "code",
   "execution_count": 10,
   "metadata": {},
   "outputs": [],
   "source": [
    "class Solution25:\n",
    "    def uniquePaths(self,m: int,n: int) -> int:\n",
    "\n",
    "        row = [1] * n\n",
    "\n",
    "        for i in range(m - 1):\n",
    "            newRow = [1] * n\n",
    "            for j in range(n - 2, -1, -1):\n",
    "                newRow[j] = newRow[j + 1] + row[j]\n",
    "            row = newRow\n",
    "        \n",
    "        return row[0]"
   ]
  },
  {
   "cell_type": "code",
   "execution_count": 11,
   "metadata": {},
   "outputs": [
    {
     "data": {
      "text/plain": [
       "28"
      ]
     },
     "execution_count": 11,
     "metadata": {},
     "output_type": "execute_result"
    }
   ],
   "source": [
    "ex25 = Solution25()\n",
    "ex25.uniquePaths(7,3)"
   ]
  },
  {
   "cell_type": "markdown",
   "metadata": {},
   "source": [
    "## 26) Jump Game"
   ]
  },
  {
   "cell_type": "code",
   "execution_count": 12,
   "metadata": {},
   "outputs": [],
   "source": [
    "class Solution26:\n",
    "    def canJump(self, nums: list[int]) -> bool:\n",
    "        goal = len(nums) - 1\n",
    "\n",
    "        for i in range(len(nums) - 1, -1, -1):\n",
    "            if i + nums[i] >= goal:\n",
    "                goal = i\n",
    "        return goal == 0"
   ]
  },
  {
   "cell_type": "code",
   "execution_count": 13,
   "metadata": {},
   "outputs": [
    {
     "data": {
      "text/plain": [
       "True"
      ]
     },
     "execution_count": 13,
     "metadata": {},
     "output_type": "execute_result"
    }
   ],
   "source": [
    "ex26 = Solution26()\n",
    "ex26.canJump([2,3,1,1,4])"
   ]
  },
  {
   "cell_type": "code",
   "execution_count": 14,
   "metadata": {},
   "outputs": [
    {
     "data": {
      "text/plain": [
       "False"
      ]
     },
     "execution_count": 14,
     "metadata": {},
     "output_type": "execute_result"
    }
   ],
   "source": [
    "ex26.canJump([3,2,1,0,4])"
   ]
  },
  {
   "cell_type": "markdown",
   "metadata": {},
   "source": [
    "## 27) Graph Copy"
   ]
  },
  {
   "cell_type": "code",
   "execution_count": 1,
   "metadata": {},
   "outputs": [],
   "source": [
    "class Node:\n",
    "    def __init__(self, val = 0, neighbors = None) -> None:\n",
    "        self.val = val\n",
    "        self.neighbors = neighbors if neighbors is not None else []\n",
    "\n",
    "class Solution27:\n",
    "    def cloneGraph(self, node: 'Node') -> 'Node':\n",
    "        oldToNew = {}\n",
    "\n",
    "        def dfs(node):\n",
    "            if node in oldToNew:\n",
    "                return oldToNew[node]\n",
    "            \n",
    "            copy = Node(node.val)\n",
    "            oldToNew[node] = copy\n",
    "\n",
    "            for nei in node.neighbors:\n",
    "                copy.neighbors.append(dfs(nei))\n",
    "            \n",
    "            return copy\n",
    "        \n",
    "        return dfs(node)\n",
    "            "
   ]
  },
  {
   "cell_type": "code",
   "execution_count": 2,
   "metadata": {},
   "outputs": [],
   "source": [
    "node1 = Node(1)\n",
    "node2 = Node(2)\n",
    "node3 = Node(3)\n",
    "node4 = Node(4)\n",
    "\n",
    "node1.neighbors = [node2,node4]\n",
    "node2.neighbors = [node1,node3]\n",
    "node3.neighbors = [node2,node4]\n",
    "node4.neighbors = [node1,node3]"
   ]
  },
  {
   "cell_type": "code",
   "execution_count": 5,
   "metadata": {},
   "outputs": [
    {
     "data": {
      "text/plain": [
       "[<__main__.Node at 0x10525df10>, <__main__.Node at 0x10525dfa0>]"
      ]
     },
     "execution_count": 5,
     "metadata": {},
     "output_type": "execute_result"
    }
   ],
   "source": [
    "node1.neighbors"
   ]
  },
  {
   "cell_type": "code",
   "execution_count": 6,
   "metadata": {},
   "outputs": [
    {
     "name": "stdout",
     "output_type": "stream",
     "text": [
      "False\n",
      "1\n",
      "[<__main__.Node object at 0x10525df10>, <__main__.Node object at 0x10525dfa0>]\n"
     ]
    }
   ],
   "source": [
    "ex27 = Solution27()\n",
    "node1Clone = ex27.cloneGraph(node1)\n",
    "print(node1Clone == node1)\n",
    "print(node1.val)\n",
    "print(node1.neighbors)"
   ]
  },
  {
   "cell_type": "code",
   "execution_count": null,
   "metadata": {},
   "outputs": [],
   "source": []
  }
 ],
 "metadata": {
  "kernelspec": {
   "display_name": "Python 3.9.14 64-bit",
   "language": "python",
   "name": "python3"
  },
  "language_info": {
   "codemirror_mode": {
    "name": "ipython",
    "version": 3
   },
   "file_extension": ".py",
   "mimetype": "text/x-python",
   "name": "python",
   "nbconvert_exporter": "python",
   "pygments_lexer": "ipython3",
   "version": "3.9.14"
  },
  "orig_nbformat": 4,
  "vscode": {
   "interpreter": {
    "hash": "397704579725e15f5c7cb49fe5f0341eb7531c82d19f2c29d197e8b64ab5776b"
   }
  }
 },
 "nbformat": 4,
 "nbformat_minor": 2
}
